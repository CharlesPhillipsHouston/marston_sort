{
 "cells": [
  {
   "cell_type": "code",
   "execution_count": 42,
   "metadata": {},
   "outputs": [],
   "source": [
    "import math\n",
    "import bz2\n",
    "import json\n",
    "from dateutil.parser import parse as dp\n",
    "from tqdm import tqdm_notebook"
   ]
  },
  {
   "cell_type": "code",
   "execution_count": 39,
   "metadata": {},
   "outputs": [],
   "source": [
    "def rfix(r):\n",
    "    for f in ['APOGEE', 'ARG_OF_PERICENTER', 'BSTAR', 'ECCENTRICITY', 'INCLINATION', 'MEAN_ANOMALY', 'MEAN_MOTION','MEAN_MOTION_DDOT','MEAN_MOTION_DOT','PERIGEE','PERIOD','RA_OF_ASC_NODE','SEMIMAJOR_AXIS']:\n",
    "        r[f] = float(r[f])\n",
    "    for f in ['ELEMENT_SET_NO', 'NORAD_CAT_ID', 'REV_AT_EPOCH', 'OBJECT_NUMBER', 'EPHEMERIS_TYPE']:\n",
    "        r[f] = int(r[f])\n",
    "    \n",
    "    r.pop('COMMENT', None)\n",
    "    r['EPOCH'] = dp(str(r['EPOCH']))\n",
    "    try:\n",
    "        r['EPOCH'] = r['EPOCH'].replace(microsecond=int(r['EPOCH_MICROSECONDS']))\n",
    "        r.pop('EPOCH_MICROSECONDS', None)\n",
    "    except KeyError:\n",
    "        pass\n",
    "    return r"
   ]
  },
  {
   "cell_type": "code",
   "execution_count": 46,
   "metadata": {},
   "outputs": [
    {
     "data": {
      "application/vnd.jupyter.widget-view+json": {
       "model_id": "c97f1887fc364ae5b65b892a767ec375"
      }
     },
     "metadata": {},
     "output_type": "display_data"
    },
    {
     "name": "stdout",
     "output_type": "stream",
     "text": [
      "\n"
     ]
    }
   ],
   "source": [
    "catalog = dict()\n",
    "with bz2.BZ2File('/home/ckuethe/norad/daily-tle/spacetrack/spacetrack_20190924071701.json.bz2') as fd:\n",
    "    tmp = json.load(fd)\n",
    "    for x in tqdm_notebook(tmp):\n",
    "        try:\n",
    "            rfix(x)\n",
    "            catalog[x['OBJECT_NUMBER']] = x\n",
    "        except TypeError:\n",
    "            pass"
   ]
  },
  {
   "cell_type": "code",
   "execution_count": 54,
   "metadata": {
    "scrolled": true
   },
   "outputs": [
    {
     "data": {
      "text/plain": [
       "44533"
      ]
     },
     "execution_count": 54,
     "metadata": {},
     "output_type": "execute_result"
    }
   ],
   "source": [
    "sorted(filtered_catalog.keys())[-1]"
   ]
  },
  {
   "cell_type": "code",
   "execution_count": 50,
   "metadata": {},
   "outputs": [],
   "source": [
    "filtered_catalog = dict()\n",
    "for i in catalog:\n",
    "    if catalog[i]['OBJECT_TYPE'] == 'PAYLOAD':\n",
    "        filtered_catalog[i] = catalog[i]"
   ]
  },
  {
   "cell_type": "code",
   "execution_count": 49,
   "metadata": {},
   "outputs": [],
   "source": [
    "from sgp4.io import twoline2rv\n",
    "from sgp4.earth_gravity import wgs72, wgs84"
   ]
  },
  {
   "cell_type": "code",
   "execution_count": 55,
   "metadata": {},
   "outputs": [],
   "source": [
    "rec = filtered_catalog[44533]"
   ]
  },
  {
   "cell_type": "code",
   "execution_count": 65,
   "metadata": {},
   "outputs": [],
   "source": [
    "t = (rec['OBJECT_NAME'], rec['TLE_LINE1'], rec['TLE_LINE2'])\n",
    "sgp4sat = twoline2rv(t[1], t[2], wgs72)"
   ]
  },
  {
   "cell_type": "code",
   "execution_count": 71,
   "metadata": {},
   "outputs": [],
   "source": [
    "from skyfield.api import Loader, EarthSatellite, Topos\n",
    "\n",
    "load = Loader('/home/ckuethe/.skyfield/')"
   ]
  },
  {
   "cell_type": "code",
   "execution_count": 83,
   "metadata": {},
   "outputs": [],
   "source": [
    "ts = load.timescale()\n",
    "\n",
    "now = ts.now()\n",
    "sj = Topos(latitude_degrees=37.293653713,longitude_degrees=-121.918863765,elevation_m=54.341)\n",
    "\n",
    "satsky = EarthSatellite(t[1], t[2])\n",
    "\n",
    "lookvector = (satsky - sj)\n",
    "topocentric = lookvector.at(now)"
   ]
  },
  {
   "cell_type": "code",
   "execution_count": 87,
   "metadata": {},
   "outputs": [
    {
     "name": "stdout",
     "output_type": "stream",
     "text": [
      "-83.366974773\n",
      "309.325360317\n",
      "13154.998898517668\n"
     ]
    }
   ],
   "source": [
    "alt, az, distance = topocentric.altaz()\n",
    "\n",
    "if alt.degrees > 0:\n",
    "    print('The ISS is above the horizon')\n",
    "\n",
    "print(float(alt.degrees))\n",
    "print(float(az.degrees))\n",
    "print(distance.km)"
   ]
  },
  {
   "cell_type": "code",
   "execution_count": 86,
   "metadata": {},
   "outputs": [
    {
     "data": {
      "text/plain": [
       "-83.36697477298688"
      ]
     },
     "execution_count": 86,
     "metadata": {},
     "output_type": "execute_result"
    }
   ],
   "source": [
    "alt.degrees"
   ]
  },
  {
   "cell_type": "code",
   "execution_count": null,
   "metadata": {},
   "outputs": [],
   "source": [
    "satsky."
   ]
  }
 ],
 "metadata": {
  "kernelspec": {
   "display_name": "Python 3",
   "language": "python",
   "name": "python3"
  },
  "language_info": {
   "codemirror_mode": {
    "name": "ipython",
    "version": 3
   },
   "file_extension": ".py",
   "mimetype": "text/x-python",
   "name": "python",
   "nbconvert_exporter": "python",
   "pygments_lexer": "ipython3",
   "version": "3.8.2"
  }
 },
 "nbformat": 4,
 "nbformat_minor": 2
}
