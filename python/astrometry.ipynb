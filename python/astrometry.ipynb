{
 "cells": [
  {
   "cell_type": "code",
   "execution_count": 1,
   "metadata": {},
   "outputs": [],
   "source": [
    "import re"
   ]
  },
  {
   "cell_type": "code",
   "execution_count": 2,
   "metadata": {},
   "outputs": [],
   "source": [
    "from subprocess import run\n",
    "from tempfile import mkdtemp\n",
    "from os import listdir, unlink, removedirs\n",
    "from os.path import join as pjoin\n",
    "from time import monotonic"
   ]
  },
  {
   "cell_type": "code",
   "execution_count": 3,
   "metadata": {},
   "outputs": [],
   "source": [
    "def rm_rf(d):\n",
    "    for f in listdir(d):\n",
    "        try:\n",
    "            unlink(pjoin(d, f))\n",
    "        except (OSError, IOError):\n",
    "            pass\n",
    "    try:\n",
    "        removedirs(d)\n",
    "    except (OSError, IOError):\n",
    "        pass"
   ]
  },
  {
   "cell_type": "code",
   "execution_count": 4,
   "metadata": {},
   "outputs": [],
   "source": [
    "def parse_buf(b):\n",
    "    rv = dict()\n",
    "    rv['fov'] = [float(x) for x in re.search(r'Field size: ([0-9.]+) x ([0-9.]+)', b).groups()]\n",
    "    tmp = re.search(r'Field center: \\(RA,Dec\\) = \\(([0-9.-]+), ([0-9.-]+)\\) deg.', b).groups()\n",
    "    rv['field_center'] = dict(zip(['ra', 'dec'], [float(x) for x in tmp]))\n",
    "    rv['arcsec_pp'] = float(re.search(r'pixel scale ([0-9.]+) arcsec/pix', b).group(1))\n",
    "    rv['constellations'] = re.findall(r'[Tt]he constellation (.+)', b)\n",
    "    rv['stars'] = re.findall(r'The star (.+)', b)\n",
    "    rv['index'] = re.search(r'Field \\d+: solved with index index-([a-z0-9-]+).\\S+endian.fits.', b).group(1)\n",
    "    return rv"
   ]
  },
  {
   "cell_type": "code",
   "execution_count": 23,
   "metadata": {},
   "outputs": [],
   "source": [
    "def solve_image(img, **kwargs):\n",
    "    '''\n",
    "    wrapper for astronomy.net solve-field\n",
    "    \n",
    "    Pretty much any command line parameter to solve-field can be specified.\n",
    "    long_kw_param=2 -> \"--long-kw-param 2\"\n",
    "    L=True -> \"-L\"\n",
    "    \n",
    "    Of particular interest:\n",
    "    \n",
    "    - scale_low (--scale-low)\n",
    "    - scale_high (--scale-high)\n",
    "    - cpulimit\n",
    "    - sigma\n",
    "    - depth\n",
    "    \n",
    "    '''\n",
    "\n",
    "    #lbound=None, hbound=None):\n",
    "    wd = mkdtemp(prefix='astrometry_', dir='/tmp')\n",
    "    args = ['solve-field', '--dir', wd, '--temp-dir', wd] # '--new-fits', 'none']\n",
    "\n",
    "    for k,v in kwargs.items():\n",
    "        k = k.replace('_', '-')\n",
    "        d = '-' if len(k) == 1 else '--'\n",
    "        if v is True:\n",
    "            args.append(d+k)\n",
    "        else:\n",
    "            args.extend([d+k, str(v)])\n",
    "    \n",
    "    args.append(img)\n",
    "    t1 = monotonic()\n",
    "    rv = run(args, capture_output=True)\n",
    "    t2 = monotonic()\n",
    "    rm_rf(wd)\n",
    "    rv = parse_buf(rv.stdout.decode())\n",
    "    rv['solve_time'] = t2-t1\n",
    "    return rv"
   ]
  },
  {
   "cell_type": "code",
   "execution_count": 7,
   "metadata": {},
   "outputs": [],
   "source": [
    "rv = solve_image('/home/ckuethe/astrometry/qhy_8mm.png', scale_low=20)"
   ]
  },
  {
   "cell_type": "code",
   "execution_count": 8,
   "metadata": {
    "scrolled": true
   },
   "outputs": [
    {
     "data": {
      "text/plain": [
       "{'fov': [32.8267, 25.0112],\n",
       " 'field_center': {'ra': 103.956439, 'dec': -21.775036},\n",
       " 'arcsec_pp': 94.663,\n",
       " 'constellations': ['Canis Major (CMa)', 'Lepus (Lep)', 'Puppis (Pup)'],\n",
       " 'stars': ['γLep',\n",
       "  'Runaway Star (μCol)',\n",
       "  'ζLep',\n",
       "  'δLep',\n",
       "  'λCol',\n",
       "  'ηLep',\n",
       "  'σCol',\n",
       "  '3Mon',\n",
       "  '17Lep',\n",
       "  'θLep',\n",
       "  '19Lep',\n",
       "  'Furud (ζCMa)',\n",
       "  'Mirzam (βCMa)',\n",
       "  'δCol',\n",
       "  'λCMa',\n",
       "  'ξ1CMa',\n",
       "  'ξ2CMa',\n",
       "  'ν1CMa',\n",
       "  'ν2CMa',\n",
       "  'ν3CMa',\n",
       "  'Sirius (αCMa)',\n",
       "  '10CMa',\n",
       "  '11CMa',\n",
       "  'κCMa',\n",
       "  '15CMa',\n",
       "  'θCMa',\n",
       "  'ο1CMa',\n",
       "  '17CMa',\n",
       "  'πCMa',\n",
       "  'μCMa',\n",
       "  'ιCMa',\n",
       "  'Adhara / Adara (εCMa)',\n",
       "  'σCMa',\n",
       "  'ο2CMa',\n",
       "  'Muliphen (γCMa)',\n",
       "  'Wezen (δCMa)',\n",
       "  '26CMa',\n",
       "  '27CMa',\n",
       "  'ωCMa',\n",
       "  '29CMa',\n",
       "  'τCMa',\n",
       "  'Aludra (ηCMa)',\n",
       "  'αMon',\n",
       "  '1Pup',\n",
       "  '3Pup',\n",
       "  '4Pup',\n",
       "  '5Pup',\n",
       "  'οPup',\n",
       "  '6Pup',\n",
       "  'ξPup',\n",
       "  '9Pup',\n",
       "  '10Pup',\n",
       "  '11Pup',\n",
       "  '12Pup',\n",
       "  'ρPup'],\n",
       " 'index': 'tycho2-16',\n",
       " 'solve_time': 7.685709367000072}"
      ]
     },
     "execution_count": 8,
     "metadata": {},
     "output_type": "execute_result"
    }
   ],
   "source": [
    "rv"
   ]
  },
  {
   "cell_type": "code",
   "execution_count": null,
   "metadata": {},
   "outputs": [],
   "source": [
    "x = rv['fov'][0] * 0.5\n",
    "y = rv['fov'][1] * 0.5\n"
   ]
  },
  {
   "cell_type": "code",
   "execution_count": 16,
   "metadata": {},
   "outputs": [],
   "source": [
    "fz = !ls -r /home/ckuethe/satvis-20200320/sv/*png"
   ]
  },
  {
   "cell_type": "code",
   "execution_count": 24,
   "metadata": {},
   "outputs": [
    {
     "name": "stdout",
     "output_type": "stream",
     "text": [
      "/home/ckuethe/satvis-20200320/sv/oaCapture-20200320-202429-001396.png 38.41 [32.59, 24.7397] {'ra': 256.08777, 'dec': 68.841775}\n",
      "/home/ckuethe/satvis-20200320/sv/oaCapture-20200320-202428-001395.png 21.09 [32.5738, 25.0446] {'ra': 256.092028, 'dec': 68.838166}\n",
      "/home/ckuethe/satvis-20200320/sv/oaCapture-20200320-202417-001394.png 8.61 [32.6503, 24.9272] {'ra': 256.055963, 'dec': 68.818202}\n",
      "/home/ckuethe/satvis-20200320/sv/oaCapture-20200320-202415-001393.png 9.85 [32.6884, 24.7835] {'ra': 256.064952, 'dec': 68.833944}\n",
      "/home/ckuethe/satvis-20200320/sv/oaCapture-20200320-202353-001392.png FAIL!\n",
      "/home/ckuethe/satvis-20200320/sv/oaCapture-20200320-202352-001391.png FAIL!\n",
      "/home/ckuethe/satvis-20200320/sv/oaCapture-20200320-202343-001390.png FAIL!\n",
      "/home/ckuethe/satvis-20200320/sv/oaCapture-20200320-202342-001389.png FAIL!\n",
      "/home/ckuethe/satvis-20200320/sv/oaCapture-20200320-202332-001388.png FAIL!\n",
      "/home/ckuethe/satvis-20200320/sv/oaCapture-20200320-202331-001387.png FAIL!\n",
      "/home/ckuethe/satvis-20200320/sv/oaCapture-20200320-202258-001386.png 9.96 [32.9514, 25.0092] {'ra': 131.660697, 'dec': 81.187798}\n",
      "/home/ckuethe/satvis-20200320/sv/oaCapture-20200320-202257-001385.png FAIL!\n",
      "/home/ckuethe/satvis-20200320/sv/oaCapture-20200320-202247-001384.png 14.86 [33.025, 25.0374] {'ra': 168.682801, 'dec': 70.140929}\n",
      "/home/ckuethe/satvis-20200320/sv/oaCapture-20200320-202246-001383.png 12.48 [32.7838, 24.9829] {'ra': 168.700729, 'dec': 70.196889}\n",
      "/home/ckuethe/satvis-20200320/sv/oaCapture-20200320-202236-001382.png 16.43 [32.9729, 24.9915] {'ra': 172.144072, 'dec': 58.075132}\n",
      "/home/ckuethe/satvis-20200320/sv/oaCapture-20200320-202235-001381.png 9.92 [32.9982, 24.9857] {'ra': 172.026187, 'dec': 58.023744}\n",
      "/home/ckuethe/satvis-20200320/sv/oaCapture-20200320-202226-001380.png 10.45 [32.8052, 24.9672] {'ra': 167.397056, 'dec': 38.290647}\n",
      "/home/ckuethe/satvis-20200320/sv/oaCapture-20200320-202224-001379.png 10.69 [32.7796, 24.9864] {'ra': 167.383133, 'dec': 38.286455}\n",
      "/home/ckuethe/satvis-20200320/sv/oaCapture-20200320-202145-001378.png 33.87 [32.7692, 24.9961] {'ra': 223.590499, 'dec': 80.663944}\n",
      "/home/ckuethe/satvis-20200320/sv/oaCapture-20200320-202144-001377.png 47.22 [33.2748, 25.2655] {'ra': 224.122897, 'dec': 80.670921}\n",
      "/home/ckuethe/satvis-20200320/sv/oaCapture-20200320-202133-001376.png FAIL!\n",
      "/home/ckuethe/satvis-20200320/sv/oaCapture-20200320-202102-001375.png FAIL!\n",
      "/home/ckuethe/satvis-20200320/sv/oaCapture-20200320-202041-001374.png FAIL!\n",
      "/home/ckuethe/satvis-20200320/sv/oaCapture-20200320-202023-001373.png 25.75 [32.8741, 24.9987] {'ra': 248.207334, 'dec': 84.532979}\n",
      "/home/ckuethe/satvis-20200320/sv/oaCapture-20200320-202009-001372.png FAIL!\n",
      "/home/ckuethe/satvis-20200320/sv/oaCapture-20200320-201936-001371.png 26.9 [32.8876, 25.0245] {'ra': 287.311042, 'dec': 74.976341}\n",
      "/home/ckuethe/satvis-20200320/sv/oaCapture-20200320-201857-001370.png 15.97 [32.8686, 25.0182] {'ra': 9.885892, 'dec': 85.849623}\n"
     ]
    }
   ],
   "source": [
    "for f in fz:\n",
    "    try:\n",
    "        rv = solve_image(f, scale_low=22, scale_high=35, cpulimit=30)\n",
    "        print(f, round(rv['solve_time'],2), rv['fov'], rv['field_center'])\n",
    "    except KeyboardInterrupt:\n",
    "        raise\n",
    "    except Exception:\n",
    "        print(f, \"FAIL!\")\n",
    "        pass"
   ]
  },
  {
   "cell_type": "code",
   "execution_count": 18,
   "metadata": {},
   "outputs": [
    {
     "data": {
      "text/plain": [
       "27"
      ]
     },
     "execution_count": 18,
     "metadata": {},
     "output_type": "execute_result"
    }
   ],
   "source": [
    "len(fz)"
   ]
  },
  {
   "cell_type": "code",
   "execution_count": null,
   "metadata": {},
   "outputs": [],
   "source": [
    "#/home/ckuethe/satvis-20200320/sv/oaCapture-20200320-201936-001371.png 26.9  [32.8876, 25.0245] {'ra': 287.311042, 'dec': 74.976341}\n",
    "\n",
    "# /home/ckuethe/satvis-20200320/sv/oaCapture-20200320-202417-001394.png 8.61  [32.6503, 24.9272] {'ra': 256.055963, 'dec': 68.818202}\n",
    "# /home/ckuethe/satvis-20200320/sv/oaCapture-20200320-202415-001393.png 9.85  [32.6884, 24.7835] {'ra': 256.064952, 'dec': 68.833944}\n",
    "\n",
    "# /home/ckuethe/satvis-20200320/sv/oaCapture-20200320-202023-001373.png 25.75 [32.8741, 24.9987] {'ra': 248.207334, 'dec': 84.532979}\n",
    "\n",
    "# /home/ckuethe/satvis-20200320/sv/oaCapture-20200320-202144-001377.png 47.22 [33.2748, 25.2655] {'ra': 224.122897, 'dec': 80.670921}\n",
    "# /home/ckuethe/satvis-20200320/sv/oaCapture-20200320-202145-001378.png 33.87 [32.7692, 24.9961] {'ra': 223.590499, 'dec': 80.663944}\n",
    "\n",
    "# /home/ckuethe/satvis-20200320/sv/oaCapture-20200320-202236-001382.png 16.43 [32.9729, 24.9915] {'ra': 172.144072, 'dec': 58.075132}\n",
    "# /home/ckuethe/satvis-20200320/sv/oaCapture-20200320-202235-001381.png 9.92  [32.9982, 24.9857] {'ra': 172.026187, 'dec': 58.023744}\n",
    "\n",
    "# /home/ckuethe/satvis-20200320/sv/oaCapture-20200320-202247-001384.png 14.86 [33.025,  25.0374] {'ra': 168.682801, 'dec': 70.140929}\n",
    "# /home/ckuethe/satvis-20200320/sv/oaCapture-20200320-202246-001383.png 12.48 [32.7838, 24.9829] {'ra': 168.700729, 'dec': 70.196889}\n",
    "\n",
    "# /home/ckuethe/satvis-20200320/sv/oaCapture-20200320-202226-001380.png 10.45 [32.8052, 24.9672] {'ra': 167.397056, 'dec': 38.290647}\n",
    "# /home/ckuethe/satvis-20200320/sv/oaCapture-20200320-202224-001379.png 10.69 [32.7796, 24.9864] {'ra': 167.383133, 'dec': 38.286455}\n",
    "\n",
    "# /home/ckuethe/satvis-20200320/sv/oaCapture-20200320-202258-001386.png 9.96  [32.9514, 25.0092] {'ra': 131.660697, 'dec': 81.187798}\n",
    "\n",
    "# /home/ckuethe/satvis-20200320/sv/oaCapture-20200320-201857-001370.png 15.97 [32.8686, 25.0182] {'ra':   9.885892, 'dec': 85.849623}\n"
   ]
  }
 ],
 "metadata": {
  "kernelspec": {
   "display_name": "Python 3",
   "language": "python",
   "name": "python3"
  },
  "language_info": {
   "codemirror_mode": {
    "name": "ipython",
    "version": 3
   },
   "file_extension": ".py",
   "mimetype": "text/x-python",
   "name": "python",
   "nbconvert_exporter": "python",
   "pygments_lexer": "ipython3",
   "version": "3.8.2"
  }
 },
 "nbformat": 4,
 "nbformat_minor": 2
}
